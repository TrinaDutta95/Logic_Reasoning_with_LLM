{
 "nbformat": 4,
 "nbformat_minor": 0,
 "metadata": {
  "colab": {
   "provenance": [],
   "authorship_tag": "ABX9TyMIbVzv3qxH3+AMYfeoCT16"
  },
  "kernelspec": {
   "name": "python3",
   "display_name": "Python 3"
  },
  "language_info": {
   "name": "python"
  }
 },
 "cells": [
  {
   "cell_type": "code",
   "execution_count": 5,
   "metadata": {
    "colab": {
     "base_uri": "https://localhost:8080/"
    },
    "id": "RSC6S6rTzIGF",
    "executionInfo": {
     "status": "ok",
     "timestamp": 1718285703842,
     "user_tz": 240,
     "elapsed": 208,
     "user": {
      "displayName": "Trina Dutta",
      "userId": "16242042150904281083"
     }
    },
    "outputId": "aa646f47-0cf4-42b5-e13a-f15bd5a9f75d"
   },
   "source": [
    "import pandas as pd\n",
    "import json\n",
    "\n",
    "\n",
    "def read_json(file_path):\n",
    "    with open(file_path, 'r') as file:\n",
    "        data = json.load(file)\n",
    "    return data\n",
    "\n",
    "\n",
    "def main(extracted_data):\n",
    "    errors = [item.get('error') for item in extracted_data]\n",
    "    filtered_errors = [error for error in errors if error and error != 'error']\n",
    "    return filtered_errors\n",
    "\n",
    "\n",
    "if __name__ == '__main__':\n",
    "    data = read_json(\"results/baseline_result.json\")\n",
    "    errors = main(data)\n",
    "    # Create a DataFrame\n",
    "    df = pd.DataFrame({\n",
    "        'Error': errors\n",
    "    })\n",
    "\n",
    "    # Save to CSV\n",
    "    df.to_csv('results/baseline_errors.csv', index=False)\n",
    "\n",
    "    print(\"CSV file 'baseline_errors.csv' has been created.\")"
   ],
   "outputs": []
  }
 ]
}
