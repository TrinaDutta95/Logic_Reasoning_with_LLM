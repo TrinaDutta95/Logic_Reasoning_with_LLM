{
 "nbformat": 4,
 "nbformat_minor": 0,
 "metadata": {
  "colab": {
   "provenance": [],
   "authorship_tag": "ABX9TyOf/mMm/R7yTDbnjQ+Su9Gj"
  },
  "kernelspec": {
   "name": "python3",
   "display_name": "Python 3"
  },
  "language_info": {
   "name": "python"
  }
 },
 "cells": [
  {
   "cell_type": "code",
   "source": [
    "import json\n",
    "import pandas as pd\n",
    "\n",
    "# Read the JSON file\n",
    "with open('baseline_result.json', 'r') as f:\n",
    "    data = json.load(f)\n",
    "\n",
    "# Extract actual and predicted labels\n",
    "actual_labels = [item['actual_label'] for item in data]\n",
    "predicted_labels = [item['predicted_label'] for item in data]\n",
    "\n",
    "# Create a DataFrame\n",
    "df = pd.DataFrame({\n",
    "    'Actual Label': actual_labels,\n",
    "    'Predicted Label': predicted_labels\n",
    "})\n",
    "\n",
    "# Save to CSV\n",
    "df.to_csv('labels.csv', index=False)\n",
    "\n",
    "print(\"CSV file 'labels.csv' has been created.\")\n"
   ],
   "metadata": {
    "colab": {
     "base_uri": "https://localhost:8080/"
    },
    "id": "xuvQWLwJ51s6",
    "executionInfo": {
     "status": "ok",
     "timestamp": 1718144268095,
     "user_tz": 240,
     "elapsed": 155,
     "user": {
      "displayName": "Trina Dutta",
      "userId": "16242042150904281083"
     }
    },
    "outputId": "0626fd2c-9e15-40e6-c07c-4eac2cac1de3"
   },
   "execution_count": 5,
   "outputs": []
  },
  {
   "cell_type": "code",
   "source": [
    "import pandas as pd\n",
    "from sklearn.metrics import confusion_matrix\n",
    "import matplotlib.pyplot as plt\n",
    "import seaborn as sns\n",
    "\n",
    "# Read the CSV file\n",
    "df = pd.read_csv('labels.csv')\n",
    "\n",
    "# Extract actual and predicted labels\n",
    "actual_labels = df['Actual Label'].tolist()\n",
    "predicted_labels = df['Predicted Label'].tolist()\n",
    "\n",
    "# Get unique labels from actual and predicted labels\n",
    "unique_labels = set(actual_labels + predicted_labels)\n",
    "\n",
    "# Define the classes (make sure it includes all unique labels)\n",
    "classes = sorted(unique_labels)  # Sort to keep a consistent order\n",
    "\n",
    "# Calculate confusion matrix\n",
    "cm = confusion_matrix(actual_labels, predicted_labels, labels=classes)\n",
    "\n",
    "# Create a heatmap\n",
    "plt.figure(figsize=(10, 8))  # Adjust the figure size as needed\n",
    "sns.heatmap(cm, annot=True, fmt=\"d\", cmap=\"Reds\", xticklabels=classes, yticklabels=classes)\n",
    "plt.xlabel('Predicted')\n",
    "plt.ylabel('Actual')\n",
    "\n",
    "# Save the heatmap as a PNG image\n",
    "plt.savefig('confusion_matrix.png', format='png', dpi=300)\n",
    "plt.show()"
   ],
   "metadata": {
    "colab": {
     "base_uri": "https://localhost:8080/",
     "height": 696
    },
    "id": "Jg7tc_cQ8CgP",
    "executionInfo": {
     "status": "ok",
     "timestamp": 1718144114396,
     "user_tz": 240,
     "elapsed": 3869,
     "user": {
      "displayName": "Trina Dutta",
      "userId": "16242042150904281083"
     }
    },
    "outputId": "389a359b-bed9-489f-80a0-e4545b198c6d"
   },
   "execution_count": 4,
   "outputs": []
  }
 ]
}
